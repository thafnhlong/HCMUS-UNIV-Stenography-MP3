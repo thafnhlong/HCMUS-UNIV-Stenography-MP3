{
 "cells": [
  {
   "cell_type": "markdown",
   "metadata": {},
   "source": [
    "# HCMUS-UNIV-Stenography-MP3\n",
    "\n",
    "Thực hiện: 2042051 - Nguyễn Thành Long"
   ]
  },
  {
   "cell_type": "markdown",
   "metadata": {},
   "source": [
    "## I.Mục tiêu:\n",
    "\n",
    "- Triển khai phương pháp Nhúng thông tin mật vào file MP3 thông qua phương pháp: **POST ENCONDING**\n",
    "- Phương pháp nhúng tin mật vào các bit ít/không quan trọng trong vùng header."
   ]
  },
  {
   "cell_type": "markdown",
   "metadata": {},
   "source": [
    "## II.Tổng quát:\n",
    "\n",
    "- MP3 là file tiêu chuẩn mở\n",
    "- Phổ biến\n",
    "- Phù hợp cho người dùng cuối\n",
    "- File nén lossy giữ chất lượng âm thanh nhưng vẫn tối ưu không gian lưu trữ"
   ]
  },
  {
   "cell_type": "markdown",
   "metadata": {},
   "source": [
    "## III.Phương pháp thực hiện\n",
    "\n",
    "- Với phương pháp nhúng tin mật vào các bit trong header ta cần tìm hiểu về header của file mp3.\n",
    "\n",
    "- Như đã biết thì mp3 là file âm thanh chia thành các phần nhỏ, mỗi phần nhỏ đó gọi là **FRAME**.\n",
    "\n",
    "- Mỗi **FRAME** sẽ gồm 2 phần là Header và Audio Data."
   ]
  },
  {
   "cell_type": "markdown",
   "metadata": {},
   "source": [
    "### 1.Cấu trúc file MP3"
   ]
  },
  {
   "cell_type": "markdown",
   "metadata": {},
   "source": [
    "- Nội dung file MP3 sẽ phụ thuộc vào lại encoding sử dụng, nhưng tổng quát có dạng sau:\n",
    "\n",
    "<img src=\"img/mp3_1.jpg\" alt=\"drawing\" width=\"300\"/>\n",
    "\n",
    "- Nhưng sau này người ta muốn nhúng thêm các thông tin khác vào cho file mp3 để thuận tiện quảng bá tới người dùng hơn nên mới thiết kế ra TAG (ID3)\n",
    "\n",
    "- ID3v1 (1996) : Được gán vào cuối file MP3 lưu trữ các meta data tối đa 128 bytes. \n",
    "\n",
    "<img src=\"img/id3v1_blocks.gif\" alt=\"drawing\" width=\"100\"/>\n",
    "\n",
    "- ID3v2 (1998) : Cảm thấy lưu trữ 128 bytes là chưa đủ nên với sự ra đời của ID3v2 thì metadata đã phong phú hơn rất nhiều, có thể lưu trữ tơí 256 MB. Phần này sẽ nằm ở đầu tệp tin MP3\n",
    "\n",
    "<img src=\"img/id3v2_blocks.gif\" alt=\"drawing\" width=\"120\"/>\n",
    "\n"
   ]
  },
  {
   "cell_type": "markdown",
   "metadata": {},
   "source": [
    "- Nhưng đôi khi thì việc thêm TAG vào không \"Hay\" lắm nên TAG sẽ là 1 tùy chọn trong FILE MP3\n",
    "\n",
    "- Tổng kết lại ta sẽ có cấu trúc file MP3 hoàn chỉnh sau:\n",
    "\n",
    "<img src=\"img/mp3_2.jpg\" alt=\"drawing\" width=\"500\"/>\n"
   ]
  },
  {
   "cell_type": "markdown",
   "metadata": {},
   "source": [
    "### 2.Cấu trúc **HEADER** của 1 FRAME MP3"
   ]
  },
  {
   "cell_type": "markdown",
   "metadata": {},
   "source": [
    "- HEADER sẽ gồm 4 Bytes (32 bit) thông tin được phân bổ như sau:\n",
    "( mỗi 1 ô vuông là 1 bit)\n",
    "\n",
    "<img src=\"img/mp3frame_blocks.gif\" alt=\"drawing\" width=\"100\"/>\n",
    "\n",
    "- Trong 32 bit này thì sẽ có những BIT ít quan trọng/ không quan trọng (quá trình decode không cần thiết) như là : private bit, copyright bit, home bit và emphasis bit chúng ta có thể lợi dụng để nhúng thông tin mật vào đây.\n",
    "\n",
    "- Như vậy là có 5 bits mỗi frame chúng ta có thể nhúng dữ liệu"
   ]
  },
  {
   "cell_type": "markdown",
   "metadata": {},
   "source": [
    "### 3.Thuật toán nhúng và trích xuất thông tin\n",
    "\n",
    "1. Nhúng:\n",
    "\n",
    "> Bước 1: Tìm offset Frame đầu tiên của file MP3\n",
    "\n",
    "> Bước 2: Nhúng thông tin vào các bit đã xác định\n",
    "\n",
    "> Bước 3: Tìm offset Frame tiếp theo và tiếp tục nhúng cho đến khi hết chuỗi bit msg\n",
    "\n",
    "2. Trích xuất:\n",
    "\n",
    "> Bước 1: Tìm offset Frame đầu tiên của file MP3\n",
    "\n",
    "> Bước 2: Trích xuất thông tin từ các bit đã xác định\n",
    "\n",
    "> Bước 3: Tìm offset Frame tiếp theo và tiếp tục trích xuất cho đến khi hết Frame\n",
    "\n",
    "\n",
    "=> Sử dụng phương pháp chèn 100... vào cuối msg để dể dàng trích xuất"
   ]
  },
  {
   "cell_type": "markdown",
   "metadata": {},
   "source": [
    "### 4.Kỹ thuật tìm offset của Frame đầu tiên và Loại bỏ TAG"
   ]
  },
  {
   "cell_type": "markdown",
   "metadata": {},
   "source": [
    "- Việc loại bỏ các TAG ra khỏi quá trình nhúng là hết sức cần thiết, nó cần cho việc tìm offset của Frame đầu tiên.\n",
    "<br>\n",
    "<br>\n",
    "- Chúng ta đã biết Tag ID3v1 nằm ở cuối file MP3, nhưng nó là optional nên chúng ta cần detect nó trước khi xóa.\n",
    "- ID3v1 Tag có kích thước 128bytes và có 3 bytes đầu tiên là \"TAG\" và nên ta chỉ cần xem xét bytes array [-128:125] xem có phải \"TAG\" hay không và xóa đi nếu thỏa."
   ]
  },
  {
   "cell_type": "markdown",
   "metadata": {},
   "source": [
    "- Với Tag ID3v2 thì phức tạp hơn: theo như mô tả từ [https://id3.org/id3v2.4.0-structure](https://id3.org/id3v2.4.0-structure) thì như sau:\n",
    "\n",
    "```\n",
    "     +-----------------------------+\n",
    "     |      Header (10 bytes)      |\n",
    "     +-----------------------------+\n",
    "     |       Extended Header       |\n",
    "     | (variable length, OPTIONAL) |\n",
    "     +-----------------------------+\n",
    "     |   Frames (variable length)  |\n",
    "     +-----------------------------+\n",
    "     |           Padding           |\n",
    "     | (variable length, OPTIONAL) |\n",
    "     +-----------------------------+\n",
    "     | Footer (10 bytes, OPTIONAL) |\n",
    "     +-----------------------------+\n",
    "```\n",
    "1. ID3v2 header : Phần đầu tiên của ID3v2 là header chứa 10 bytes\n",
    "```\n",
    "     ID3v2/file identifier      \"ID3\"\n",
    "     ID3v2 version              $04 00\n",
    "     ID3v2 flags                %abcd0000\n",
    "     ID3v2 size             4 * %0xxxxxxx\n",
    "```\n",
    "> 3 bytes đầu tiên luôn là \"ID3\"\n",
    ">\n",
    "> byte thứ 7->10 chứa **size** đây là kích thước của TAG (không tính header)<br>\n",
    "> size được lưu trữ ở dạng 32 bit synchsafe integer <br>\n",
    "> Chúng ta sẽ sử dụng hàm dưới để chuyển synchsafe sang int"
   ]
  },
  {
   "cell_type": "code",
   "execution_count": 84,
   "metadata": {},
   "outputs": [],
   "source": [
    "def synchsafe2int(numb):\n",
    "    return numb[0] << 21 | numb[1] << 14 | numb[2] << 7 | numb[3]"
   ]
  },
  {
   "cell_type": "markdown",
   "metadata": {},
   "source": [
    "> Vậy nếu như tồn tại Tag ID3v2 để đến được offset Frame đầu tiên ta cần nhảy 1 đoạn là :\n",
    "\n",
    "```synchsafe2int(sizeTag) + 10 bytes```"
   ]
  },
  {
   "cell_type": "markdown",
   "metadata": {},
   "source": [
    "### 5.Kỹ thuật tìm offset tiếp theo của Frame"
   ]
  },
  {
   "cell_type": "markdown",
   "metadata": {},
   "source": [
    "- Yêu cầu: Ta đang ở frame đầu tiên làm sao để nhảy qua frame tiếp theo?\n",
    "\n",
    "- Chúng ta chỉ cần xác định được kích thước (k bytes) của Frame hiện tại và di chuyển (k bytes) để tới offset của frame tiếp theo.\n",
    "\n",
    "- Ở trên chúng ta đã biết 1 Frame sẽ gồm Header + Audio data. các thông số tính toán của Frame sẽ nằm trong Header\n",
    "\n",
    "<img src=\"img/mp3frame_blocks.gif\" alt=\"drawing\" width=\"100\"/>\n",
    "\n",
    "Theo như [https://id3.org/mp3Frame](https://id3.org/mp3Frame) ta biết được rằng:\n",
    "\n",
    "```\n",
    "                FrameSize = 144 * BitRate / SampleRate\n",
    "                   when the padding bit is cleared and\n",
    "                 FrameSize = (144 * BitRate / SampleRate) + 1\n",
    "                   when the padding bit is set.\n",
    "```"
   ]
  },
  {
   "cell_type": "markdown",
   "metadata": {},
   "source": [
    "a. ID: 1bit [12] : bit này dùng để xác định version MPEG- của file MP3\n",
    "\n",
    ">ID=0: MPEG-2\n",
    ">\n",
    ">ID=1: MPEG-1"
   ]
  },
  {
   "cell_type": "markdown",
   "metadata": {},
   "source": [
    "b. Layer: 2bit [13-14] : bit này dùng để xác định layer của file MP3\n",
    "\n",
    "<table style=\"width: &amp;quot;150px&amp;quot\"><tbody><tr>  <td><p class=\"line862\"> 0 0 </p></td>\n",
    "  <td><p class=\"line862\"> Not defined </p></td>\n",
    "</tr>\n",
    "<tr>  <td><span class=\"anchor\" id=\"line-7\"></span><p class=\"line862\">0 1 </p></td>\n",
    "  <td><p class=\"line862\"> Layer III </p></td>\n",
    "</tr>\n",
    "<tr>  <td><span class=\"anchor\" id=\"line-8\"></span><p class=\"line862\">1 0 </p></td>\n",
    "  <td><p class=\"line862\"> Layer II </p></td>\n",
    "</tr>\n",
    "<tr>  <td><span class=\"anchor\" id=\"line-9\"></span><p class=\"line862\">1 1 </p></td>\n",
    "  <td><p class=\"line862\"> Layer I </p></td>\n",
    "</tr>\n",
    "</tbody></table>"
   ]
  },
  {
   "cell_type": "markdown",
   "metadata": {},
   "source": [
    "c. BitRate: 4bit [16->19]\n",
    "\n",
    "Bảng dưới được tính là kbit/s khi tính toán ta phải $*1000$ để trở thành bit/s\n",
    "\n",
    "<table style=\"width: &amp;quot;600px&amp;quot\"><tbody><tr>  <td><p class=\"line891\"><strong> Bitrate<br>\n",
    "value </strong> </p></td>\n",
    "  <td><p class=\"line891\"><strong> MPEG-1,<br>\n",
    "layer I </strong> </p></td>\n",
    "  <td><p class=\"line891\"><strong> MPEG-1,<br>\n",
    "layer II </strong> </p></td>\n",
    "  <td><p class=\"line891\"><strong> MPEG-1,<br>\n",
    "layer III </strong> </p></td>\n",
    "  <td><p class=\"line891\"><strong> MPEG-2,<br>\n",
    "layer I </strong> </p></td>\n",
    "  <td><p class=\"line891\"><strong> MPEG-2,<br>\n",
    "layer II </strong> </p></td>\n",
    "  <td><p class=\"line891\"><strong> MPEG-2,<br>\n",
    "layer III </strong> </p></td>\n",
    "</tr>\n",
    "<tr>  <td><span class=\"anchor\" id=\"line-14\"></span><p class=\"line862\"> 0 0 0 0 </p></td>\n",
    "  <td colspan=\"6\" style=\"&amp;quot; text-align: center; &amp;quot;\"><p class=\"line862\"> </p></td>\n",
    "</tr>\n",
    "<tr>  <td><span class=\"anchor\" id=\"line-15\"></span><p class=\"line862\"> 0 0 0 1 </p></td>\n",
    "  <td><p class=\"line862\"> 32 </p></td>\n",
    "  <td><p class=\"line862\"> 32 </p></td>\n",
    "  <td><p class=\"line862\"> 32 </p></td>\n",
    "  <td><p class=\"line862\"> 32 </p></td>\n",
    "  <td><p class=\"line862\"> 32 </p></td>\n",
    "  <td><p class=\"line862\"> 8 </p></td>\n",
    "</tr>\n",
    "<tr>  <td><span class=\"anchor\" id=\"line-16\"></span><p class=\"line862\"> 0 0 1 0 </p></td>\n",
    "  <td><p class=\"line862\"> 64 </p></td>\n",
    "  <td><p class=\"line862\"> 48 </p></td>\n",
    "  <td><p class=\"line862\"> 40 </p></td>\n",
    "  <td><p class=\"line862\"> 64 </p></td>\n",
    "  <td><p class=\"line862\"> 48 </p></td>\n",
    "  <td><p class=\"line862\"> 16 </p></td>\n",
    "</tr>\n",
    "<tr>  <td><span class=\"anchor\" id=\"line-17\"></span><p class=\"line862\"> 0 0 1 1 </p></td>\n",
    "  <td><p class=\"line862\"> 96 </p></td>\n",
    "  <td><p class=\"line862\"> 56 </p></td>\n",
    "  <td><p class=\"line862\"> 48 </p></td>\n",
    "  <td><p class=\"line862\"> 96 </p></td>\n",
    "  <td><p class=\"line862\"> 56 </p></td>\n",
    "  <td><p class=\"line862\"> 24 </p></td>\n",
    "</tr>\n",
    "<tr>  <td><span class=\"anchor\" id=\"line-18\"></span><p class=\"line862\"> 0 1 0 0 </p></td>\n",
    "  <td><p class=\"line862\"> 128 </p></td>\n",
    "  <td><p class=\"line862\"> 64 </p></td>\n",
    "  <td><p class=\"line862\"> 56 </p></td>\n",
    "  <td><p class=\"line862\"> 128 </p></td>\n",
    "  <td><p class=\"line862\"> 64 </p></td>\n",
    "  <td><p class=\"line862\"> 32 </p></td>\n",
    "</tr>\n",
    "<tr>  <td><span class=\"anchor\" id=\"line-19\"></span><p class=\"line862\"> 0 1 0 1 </p></td>\n",
    "  <td><p class=\"line862\"> 160 </p></td>\n",
    "  <td><p class=\"line862\"> 80 </p></td>\n",
    "  <td><p class=\"line862\"> 64 </p></td>\n",
    "  <td><p class=\"line862\"> 160 </p></td>\n",
    "  <td><p class=\"line862\"> 80 </p></td>\n",
    "  <td><p class=\"line862\"> 64 </p></td>\n",
    "</tr>\n",
    "<tr>  <td><span class=\"anchor\" id=\"line-20\"></span><p class=\"line862\"> 0 1 1 0 </p></td>\n",
    "  <td><p class=\"line862\"> 192 </p></td>\n",
    "  <td><p class=\"line862\"> 96 </p></td>\n",
    "  <td><p class=\"line862\"> 80 </p></td>\n",
    "  <td><p class=\"line862\"> 192 </p></td>\n",
    "  <td><p class=\"line862\"> 96 </p></td>\n",
    "  <td><p class=\"line862\"> 80 </p></td>\n",
    "</tr>\n",
    "<tr>  <td><span class=\"anchor\" id=\"line-21\"></span><p class=\"line862\"> 0 1 1 1 </p></td>\n",
    "  <td><p class=\"line862\"> 224 </p></td>\n",
    "  <td><p class=\"line862\"> 112 </p></td>\n",
    "  <td><p class=\"line862\"> 96 </p></td>\n",
    "  <td><p class=\"line862\"> 224 </p></td>\n",
    "  <td><p class=\"line862\"> 112 </p></td>\n",
    "  <td><p class=\"line862\"> 56 </p></td>\n",
    "</tr>\n",
    "<tr>  <td><span class=\"anchor\" id=\"line-22\"></span><p class=\"line862\"> 1 0 0 0 </p></td>\n",
    "  <td><p class=\"line862\"> 256 </p></td>\n",
    "  <td><p class=\"line862\"> 128 </p></td>\n",
    "  <td><p class=\"line862\"> 112 </p></td>\n",
    "  <td><p class=\"line862\"> 256 </p></td>\n",
    "  <td><p class=\"line862\"> 128 </p></td>\n",
    "  <td><p class=\"line862\"> 64 </p></td>\n",
    "</tr>\n",
    "<tr>  <td><span class=\"anchor\" id=\"line-23\"></span><p class=\"line862\"> 1 0 0 1 </p></td>\n",
    "  <td><p class=\"line862\"> 288 </p></td>\n",
    "  <td><p class=\"line862\"> 160 </p></td>\n",
    "  <td><p class=\"line862\"> 128 </p></td>\n",
    "  <td><p class=\"line862\"> 288 </p></td>\n",
    "  <td><p class=\"line862\"> 160 </p></td>\n",
    "  <td><p class=\"line862\"> 128 </p></td>\n",
    "</tr>\n",
    "<tr>  <td><span class=\"anchor\" id=\"line-24\"></span><p class=\"line862\"> 1 0 1 0 </p></td>\n",
    "  <td><p class=\"line862\"> 320 </p></td>\n",
    "  <td><p class=\"line862\"> 192 </p></td>\n",
    "  <td><p class=\"line862\"> 160 </p></td>\n",
    "  <td><p class=\"line862\"> 320 </p></td>\n",
    "  <td><p class=\"line862\"> 192 </p></td>\n",
    "  <td><p class=\"line862\"> 160 </p></td>\n",
    "</tr>\n",
    "<tr>  <td><span class=\"anchor\" id=\"line-25\"></span><p class=\"line862\"> 1 0 1 1 </p></td>\n",
    "  <td><p class=\"line862\"> 352 </p></td>\n",
    "  <td><p class=\"line862\"> 224 </p></td>\n",
    "  <td><p class=\"line862\"> 192 </p></td>\n",
    "  <td><p class=\"line862\"> 352 </p></td>\n",
    "  <td><p class=\"line862\"> 224 </p></td>\n",
    "  <td><p class=\"line862\"> 112 </p></td>\n",
    "</tr>\n",
    "<tr>  <td><span class=\"anchor\" id=\"line-26\"></span><p class=\"line862\"> 1 1 0 0 </p></td>\n",
    "  <td><p class=\"line862\"> 384 </p></td>\n",
    "  <td><p class=\"line862\"> 256 </p></td>\n",
    "  <td><p class=\"line862\"> 224 </p></td>\n",
    "  <td><p class=\"line862\"> 384 </p></td>\n",
    "  <td><p class=\"line862\"> 256 </p></td>\n",
    "  <td><p class=\"line862\"> 128 </p></td>\n",
    "</tr>\n",
    "<tr>  <td><span class=\"anchor\" id=\"line-27\"></span><p class=\"line862\"> 1 1 0 1 </p></td>\n",
    "  <td><p class=\"line862\"> 416 </p></td>\n",
    "  <td><p class=\"line862\"> 320 </p></td>\n",
    "  <td><p class=\"line862\"> 256 </p></td>\n",
    "  <td><p class=\"line862\"> 416 </p></td>\n",
    "  <td><p class=\"line862\"> 320 </p></td>\n",
    "  <td><p class=\"line862\"> 256 </p></td>\n",
    "</tr>\n",
    "<tr>  <td><span class=\"anchor\" id=\"line-28\"></span><p class=\"line862\"> 1 1 1 0 </p></td>\n",
    "  <td><p class=\"line862\"> 448 </p></td>\n",
    "  <td><p class=\"line862\"> 384 </p></td>\n",
    "  <td><p class=\"line862\"> 320 </p></td>\n",
    "  <td><p class=\"line862\"> 448 </p></td>\n",
    "  <td><p class=\"line862\"> 384 </p></td>\n",
    "  <td><p class=\"line862\"> 320 </p></td>\n",
    "</tr>\n",
    "<tr>  <td><span class=\"anchor\" id=\"line-29\"></span><p class=\"line862\"> 1 1 1 1 </p></td>\n",
    "  <td colspan=\"6\" style=\"&amp;quot; text-align: center; &amp;quot;\"><p class=\"line862\"> </p></td>\n",
    "</tr>\n",
    "</tbody></table>"
   ]
  },
  {
   "cell_type": "code",
   "execution_count": 85,
   "metadata": {},
   "outputs": [],
   "source": [
    "BitrateTBL = [\n",
    "    #      MPEG1                      MPEG2\n",
    "    # L1     L2      L3          L1      L2      L3\n",
    "    \n",
    "    \n",
    "    [[0,    0,      0],         [0, \t0,\t     0 ]],\n",
    "    [[32,   32,     32],\t    [32, \t32,\t     8 ]],\n",
    "    [[64,   48,     40],\t    [64,\t48,\t     16]],\n",
    "    [[96,   56,     48],\t    [96, \t56,\t     24]],\n",
    "    [[128,\t64,\t    56],\t    [128,\t64,\t     32]],\n",
    "    [[160,\t80,\t    64],\t    [160,\t80,\t     64]],\n",
    "    [[192,\t96,\t    80],\t    [192,\t96,\t     80]],\n",
    "    [[224,\t112,\t96],\t    [224,\t112,\t 56]],\n",
    "    [[256,\t128,\t112],\t    [256,\t128,\t 64]],\n",
    "    [[288,\t160,\t128],\t    [288,\t160,\t128]],\n",
    "    [[320,\t192,\t160],\t    [320,\t192,\t160]],\n",
    "    [[352,\t224,\t192],\t    [352,\t224,\t112]],\n",
    "    [[384,\t256,\t224],\t    [384,\t256,\t128]],\n",
    "    [[416,\t320,\t256],\t    [416,\t320,\t256]],\n",
    "    [[448,\t384,\t320],\t    [448,\t384,\t320]],\n",
    "    [[0,    0,        0],\t    [0, \t0,\t     0 ]],\n",
    "\n",
    "]"
   ]
  },
  {
   "cell_type": "markdown",
   "metadata": {},
   "source": [
    "b. SampleRate: 2bit [20->21]\n",
    "\n",
    "<table style=\"width: &amp;quot;255px&amp;quot\"><tbody><tr>  <td><p class=\"line891\"><strong> Frequency<br>\n",
    "Value</strong> </p></td>\n",
    "  <td><p class=\"line891\"><strong>MPEG-1</strong> </p></td>\n",
    "  <td><p class=\"line891\"><strong>MPEG-2</strong> </p></td>\n",
    "</tr>\n",
    "<tr>  <td><span class=\"anchor\" id=\"line-34\"></span><p class=\"line862\">0 0 </p></td>\n",
    "  <td><p class=\"line862\">44100 Hz </p></td>\n",
    "  <td><p class=\"line862\">22050 Hz </p></td>\n",
    "</tr>\n",
    "<tr>  <td><span class=\"anchor\" id=\"line-35\"></span><p class=\"line862\">0 1 </p></td>\n",
    "  <td><p class=\"line862\">48000 Hz </p></td>\n",
    "  <td><p class=\"line862\">24000 Hz </p></td>\n",
    "</tr>\n",
    "<tr>  <td><span class=\"anchor\" id=\"line-36\"></span><p class=\"line862\">1 0 </p></td>\n",
    "  <td><p class=\"line862\">32000 Hz </p></td>\n",
    "  <td><p class=\"line862\">16000 Hz </p></td>\n",
    "</tr>\n",
    "<tr>  <td><span class=\"anchor\" id=\"line-37\"></span><p class=\"line862\">1 1 </p></td>\n",
    "  <td colspan=\"2\" style=\"&amp;quot; text-align: center; &amp;quot;\"><p class=\"line862\"> </p></td>\n",
    "</tr>\n",
    "</tbody></table>"
   ]
  },
  {
   "cell_type": "code",
   "execution_count": 86,
   "metadata": {},
   "outputs": [],
   "source": [
    "FrequencyTBL = [\n",
    "    #   MPEG1   MPEG2\n",
    "    [44100,     22050 ],\n",
    "    [24000,     48000 ],\n",
    "    [32000,     16000 ],\n",
    "    [0,         0]           \n",
    "]"
   ]
  },
  {
   "cell_type": "markdown",
   "metadata": {},
   "source": [
    "c. Padding bit: 1 bit [22]"
   ]
  },
  {
   "cell_type": "markdown",
   "metadata": {},
   "source": [
    "### 6.Demo"
   ]
  },
  {
   "cell_type": "code",
   "execution_count": 87,
   "metadata": {},
   "outputs": [],
   "source": [
    "from bitarray import bitarray"
   ]
  },
  {
   "cell_type": "code",
   "execution_count": 88,
   "metadata": {},
   "outputs": [],
   "source": [
    "# Hàm hỗ trợ:\n",
    "\n",
    "def compute_msg_bits(msg_file, embedable_byte_length):\n",
    "    with open(msg_file, 'rb') as f:\n",
    "        msg = f.read()\n",
    "    \n",
    "    msg_bits = bitarray(); \n",
    "    msg_bits.frombytes(msg)\n",
    "    if len(msg_bits) + 1 > embedable_byte_length:\n",
    "        print('Cannot embed!')\n",
    "        return None\n",
    "    \n",
    "    # Thêm '100...' vào msg bits\n",
    "    msg_bits.extend('1' + '0' * (embedable_byte_length - len(msg_bits) - 1))\n",
    "    \n",
    "    return list(msg_bits)"
   ]
  },
  {
   "cell_type": "code",
   "execution_count": 89,
   "metadata": {},
   "outputs": [],
   "source": [
    "class MP3Steganography:\n",
    "    def __init__(self,fileName) -> None:\n",
    "        with open(fileName, \"rb\") as f:\n",
    "            self.bytes_read = f.read()\n",
    "\n",
    "        self.end=len(self.bytes_read)\n",
    "        # https://id3.org/ID3v1\n",
    "        # Loại bỏ ID3v1_tag\n",
    "        if self.bytes_read[-128:-125].decode()==\"TAG\":\n",
    "            self.end-=128\n",
    "        # https://id3.org/id3v2.4.0-structure\n",
    "        # Loại bỏ ID3v2_tag\n",
    "        if self.bytes_read[0:3].decode() == \"ID3\":\n",
    "            size = self.bytes_read[6:10]\n",
    "            self.start=self.current= synchsafe2int(size) + 10 # header size = 10byte\n",
    "        \n",
    "        self.embedableBits = self.getEmbedableBits()\n",
    "\n",
    "    def getEmbedableBits(self):\n",
    "        result = 0\n",
    "        while self.current<self.end:\n",
    "            result+=1\n",
    "            self.moveNextFrame()\n",
    "        self.current=self.start        \n",
    "        return result * 5 # five bits can embed\n",
    "\n",
    "    def moveNextFrame(self):\n",
    "        # https://id3.org/mp3Frame\n",
    "        currentHeader = self.bytes_read[self.current:self.current+5]    # take 4 bytes\n",
    "        MPEGVersion = currentHeader[1] >> 3 & 1                         # bit index 12 (8*2-1 - 3 & 1)\n",
    "        #=1 mpeg 1, =0 mpeg2\n",
    "\n",
    "        Layer = currentHeader[1] >> 1 & 3                               # bit index 13-14 (8*2-1 -1 & 11)\n",
    "        #01: 1 layer3\n",
    "        #10: 2 layer2\n",
    "        #11: 3 layer1\n",
    "\n",
    "        BitRate = currentHeader[2] >> 4 & 15                            # bit index 16-19 (8*3-1 -4 & 1111)\n",
    "        Frequency = currentHeader[2] >> 2 & 3                           # bit index 20-21 (8*3-1 -2 & 11)\n",
    "        Pad = currentHeader[2] >> 1 & 1                                 # bit index 22 (8*3-1 -1 & 1)\n",
    "\n",
    "        _Frequency = FrequencyTBL[Frequency][1-MPEGVersion] # Swap to MPEG-1 and MPEG-2\n",
    "        _BitRate = BitrateTBL[BitRate][1-MPEGVersion][4-Layer-1] # Swap to MPEG-1 and MPEG-2 and Layer 1,2,3\n",
    "        \n",
    "        FrameSize = 144 * _BitRate * 1000 / _Frequency\n",
    "        if Pad:\n",
    "            FrameSize += 1\n",
    "\n",
    "        self.current += int(FrameSize)\n",
    "\n",
    "    def embed(self, bits, stego_file):\n",
    "        b=0\n",
    "        stegobyte = list(self.bytes_read)\n",
    "        while self.current<self.end:\n",
    "            # bit24\n",
    "            tmp1 = stegobyte[self.current + 2]\n",
    "            stegobyte[self.current + 2] = tmp1 & 0xFE | bits[b] # giữ lại 7 bit đầu trừ 1 bit cuối = bit cần chèn\n",
    "            b+=1 \n",
    "            # bit 29,30,31,32\n",
    "            tmp2 = stegobyte[self.current + 3]\n",
    "            bitcombibe = 0\n",
    "            for _ in range(4):\n",
    "                bitcombibe = (bitcombibe << 1) | bits[b]\n",
    "                b+=1\n",
    "            stegobyte[self.current + 3] = tmp2 & 0xF0 | bitcombibe # giữ lại 4 bit đầu trừ 4 bit cuối = 4 bit cần chèn\n",
    "            self.moveNextFrame()\n",
    "\n",
    "        with open(stego_file, 'wb') as f:\n",
    "            f.write(bytearray(stegobyte)) \n",
    "        \n",
    "    def extract(self, extract_file):\n",
    "        extr_msg_bits = bitarray()\n",
    "        while self.current<self.end:\n",
    "            tmp1 = self.bytes_read[self.current + 2]\n",
    "            extr_msg_bits.append(tmp1 & 1)\n",
    "            tmp2 = self.bytes_read[self.current + 3]\n",
    "            for i in range(3,-1,-1):\n",
    "                extr_msg_bits.append(tmp2 >> i & 1)\n",
    "            self.moveNextFrame()\n",
    "\n",
    "        extr_msg_bits = extr_msg_bits[:extr_msg_bits.to01().rfind('1')]\n",
    "        \n",
    "        with open(extract_file, 'wb') as f:\n",
    "            f.write(extr_msg_bits.tobytes())\n"
   ]
  },
  {
   "cell_type": "markdown",
   "metadata": {},
   "source": [
    "**TEST**\n",
    "\n",
    "EMBED"
   ]
  },
  {
   "cell_type": "code",
   "execution_count": 90,
   "metadata": {},
   "outputs": [
    {
     "name": "stdout",
     "output_type": "stream",
     "text": [
      "Cannot embed!\n"
     ]
    }
   ],
   "source": [
    "cover_file = \"cover.mp3\"\n",
    "secret_file = \"big.jfif\"\n",
    "tool = MP3Steganography(cover_file)\n",
    "msg_bit = compute_msg_bits(secret_file,tool.embedableBits)\n",
    "assert msg_bit==None"
   ]
  },
  {
   "cell_type": "code",
   "execution_count": 91,
   "metadata": {},
   "outputs": [],
   "source": [
    "cover_file = \"cover.mp3\"\n",
    "correct_stego_file = \"correct_stego.mp3\"\n",
    "stego_file = \"stego.mp3\"\n",
    "secret_file = \"small.jfif\"\n",
    "tool = MP3Steganography(cover_file)\n",
    "msg_bit = compute_msg_bits(secret_file,tool.embedableBits)\n",
    "if msg_bit:\n",
    "    tool.embed(msg_bit,stego_file)\n",
    "\n",
    "with open(correct_stego_file, 'rb') as f:\n",
    "    correct_stego = f.read()\n",
    "with open(stego_file, 'rb') as f:\n",
    "    stego = f.read()\n",
    "\n",
    "assert correct_stego == stego"
   ]
  },
  {
   "cell_type": "markdown",
   "metadata": {},
   "source": [
    "EXTRACT"
   ]
  },
  {
   "cell_type": "code",
   "execution_count": 92,
   "metadata": {},
   "outputs": [],
   "source": [
    "stego_file = \"stego.mp3\"\n",
    "correct_extract_file = \"small.jfif\"\n",
    "extract_file = \"small_extract.jfif\"\n",
    "\n",
    "tool = MP3Steganography(stego_file)\n",
    "tool.extract(extract_file)\n",
    "\n",
    "with open(correct_extract_file, 'rb') as f:\n",
    "    correct_extract = f.read()\n",
    "with open(extract_file, 'rb') as f:\n",
    "    extract = f.read()\n",
    "\n",
    "assert correct_extract == extract"
   ]
  }
 ],
 "metadata": {
  "interpreter": {
   "hash": "d98794233341d25f2a0894d4e9a90ded70997a05acb150b34675aa0571b13e29"
  },
  "kernelspec": {
   "display_name": "Python 3.9.6 64-bit",
   "name": "python3"
  },
  "language_info": {
   "codemirror_mode": {
    "name": "ipython",
    "version": 3
   },
   "file_extension": ".py",
   "mimetype": "text/x-python",
   "name": "python",
   "nbconvert_exporter": "python",
   "pygments_lexer": "ipython3",
   "version": "3.9.6"
  },
  "orig_nbformat": 4
 },
 "nbformat": 4,
 "nbformat_minor": 2
}
